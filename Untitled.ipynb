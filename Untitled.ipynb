{
 "cells": [
  {
   "cell_type": "code",
   "execution_count": null,
   "id": "c9732972",
   "metadata": {},
   "outputs": [],
   "source": [
    "import requests\n",
    "from bs4 import BeautifulSoup\n",
    "import time\n"
   ]
  },
  {
   "cell_type": "code",
   "execution_count": null,
   "id": "54913f8e",
   "metadata": {},
   "outputs": [],
   "source": [
    "url = \"http://www.paxnet.co.kr/stock/sise/KOSPI200\"\n",
    "\n",
    "page_response = requests.get(url)\n",
    "page_src = page_response.text\n",
    "page_soup = BeautifulSoup(page_src, 'html.parser')\n",
    "\n",
    "table = page_soup.select(\"#_devSiseJisuDataMinList > div.m-only-box > div.table-scroll > table\")[0]\n",
    "\n",
    "table"
   ]
  },
  {
   "cell_type": "code",
   "execution_count": null,
   "id": "94aec387",
   "metadata": {},
   "outputs": [],
   "source": []
  },
  {
   "cell_type": "code",
   "execution_count": null,
   "id": "f5d8e741",
   "metadata": {},
   "outputs": [],
   "source": [
    "import matplotlib.pyplot as plt\n",
    "from IPython import display\n",
    "import time     \n",
    "import random\n",
    "\n",
    "x = [1]\n",
    "y = [1]\n",
    "\n",
    "while True:\n",
    "    plt.plot(x, y) \n",
    "\n",
    "    x.append(x[len(x) - 1] + 1)\n",
    "    y.append((random.random() * 100) % 100)\n",
    "    \n",
    "    plt.pause(0.1)\n",
    "    time.sleep(2)\n",
    "    \n"
   ]
  },
  {
   "cell_type": "code",
   "execution_count": null,
   "id": "c0bc0922",
   "metadata": {},
   "outputs": [],
   "source": []
  }
 ],
 "metadata": {
  "kernelspec": {
   "display_name": "Python 3",
   "language": "python",
   "name": "python3"
  },
  "language_info": {
   "codemirror_mode": {
    "name": "ipython",
    "version": 3
   },
   "file_extension": ".py",
   "mimetype": "text/x-python",
   "name": "python",
   "nbconvert_exporter": "python",
   "pygments_lexer": "ipython3",
   "version": "3.11.1"
  },
  "vscode": {
   "interpreter": {
    "hash": "560d5c778dd4c0eaf65f9f451353eb96794ea6e379fcdf9bb74fc7135f0aa805"
   }
  }
 },
 "nbformat": 4,
 "nbformat_minor": 5
}
